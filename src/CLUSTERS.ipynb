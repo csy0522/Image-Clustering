{
 "cells": [
  {
   "cell_type": "code",
   "execution_count": 7,
   "metadata": {},
   "outputs": [],
   "source": [
    "from sklearn.cluster import KMeans\n",
    "from sklearn.mixture import GaussianMixture\n",
    "%run helper_function.ipynb"
   ]
  },
  {
   "cell_type": "markdown",
   "metadata": {},
   "source": [
    "This class creates both K-Means and Gaussian Mixture Model"
   ]
  },
  {
   "cell_type": "code",
   "execution_count": 9,
   "metadata": {},
   "outputs": [],
   "source": [
    "class CLUSTERS:\n",
    "    \n",
    "    def __init__(self,n):\n",
    "        self.n_ = n\n",
    "        self.kmeans_ = self.__build_kmeans__()\n",
    "        self.gmm_ = self.__build_gmm__()\n",
    "        \n",
    "    def __build_kmeans__(self):\n",
    "        return KMeans(n_clusters=self.n_,random_state=0)\n",
    "    \n",
    "    def __build_gmm__(self):\n",
    "        return GaussianMixture(n_components=self.n_,random_state=0)\n",
    "    \n",
    "    def __fit__(self,X,t):\n",
    "        if t == 'kmeans':\n",
    "            self.kmeans_.fit(X)\n",
    "        elif t == 'gmm':\n",
    "            self.gmm_.fit(X)\n",
    "    \n",
    "    def __predict__(self,X,t):\n",
    "        if t == 'kmeans':\n",
    "            return self.kmeans_.predict(X)\n",
    "        elif t == 'gmm':\n",
    "            return self.gmm_.predict(X)\n",
    "            \n",
    "    def __test_loss__(self,X,y,t):\n",
    "        return get_loss(y,self.__predict__(X,t))"
   ]
  },
  {
   "cell_type": "code",
   "execution_count": null,
   "metadata": {},
   "outputs": [],
   "source": []
  }
 ],
 "metadata": {
  "kernelspec": {
   "display_name": "Python 3",
   "language": "python",
   "name": "python3"
  },
  "language_info": {
   "codemirror_mode": {
    "name": "ipython",
    "version": 3
   },
   "file_extension": ".py",
   "mimetype": "text/x-python",
   "name": "python",
   "nbconvert_exporter": "python",
   "pygments_lexer": "ipython3",
   "version": "3.7.4"
  }
 },
 "nbformat": 4,
 "nbformat_minor": 4
}
