{
 "cells": [
  {
   "cell_type": "code",
   "execution_count": 9,
   "metadata": {},
   "outputs": [],
   "source": [
    "from tensorflow.keras.datasets.fashion_mnist import load_data\n",
    "import math\n",
    "import numpy as np"
   ]
  },
  {
   "cell_type": "markdown",
   "metadata": {},
   "source": [
    "This file contains the helper functions<br>\n",
    "which will assist in converting data and calculating results\n",
    "<br>"
   ]
  },
  {
   "cell_type": "code",
   "execution_count": 10,
   "metadata": {},
   "outputs": [],
   "source": [
    "def get_data(t):\n",
    "    (X_train,y_train),(X_test,y_test) = load_data()\n",
    "    if t == 'train':\n",
    "        return X_train,y_train\n",
    "    elif t == 'test':\n",
    "        return X_test,y_test"
   ]
  },
  {
   "cell_type": "code",
   "execution_count": 11,
   "metadata": {},
   "outputs": [],
   "source": [
    "def norm_flat_data(X):\n",
    "    return np.matrix([x.flatten()/255 for x in X])"
   ]
  },
  {
   "cell_type": "code",
   "execution_count": 12,
   "metadata": {},
   "outputs": [],
   "source": [
    "def norm_conv_data(X):\n",
    "    return (X/255).reshape(X.shape[0],X.shape[1],X.shape[2],1)"
   ]
  },
  {
   "cell_type": "code",
   "execution_count": 17,
   "metadata": {},
   "outputs": [],
   "source": [
    "def get_loss(y,y_hat):\n",
    "    loss = [1 if int(y[i]) != int(y_hat[i]) else 0 for i in range(len(y))]\n",
    "    return \"Loss: {}\".format(np.sum(loss))"
   ]
  },
  {
   "cell_type": "code",
   "execution_count": 21,
   "metadata": {},
   "outputs": [],
   "source": [
    "def get_accuracy(y,y_hat):\n",
    "    loss = [1 if int(y[i]) != int(y_hat[i]) else 0 for i in range(len(y))]\n",
    "    loss = np.sum(loss)\n",
    "    return \"Accuracy: {}\".format((len(y)-loss)/len(y))"
   ]
  },
  {
   "cell_type": "code",
   "execution_count": 15,
   "metadata": {},
   "outputs": [],
   "source": [
    "def reshape_12(X):\n",
    "    return X.reshape((X.shape[0],math.sqrt(X.shape[1]),math.sqrt(X.shape[1])))"
   ]
  },
  {
   "cell_type": "code",
   "execution_count": 16,
   "metadata": {},
   "outputs": [],
   "source": [
    "def reshape_21(X):\n",
    "    return X.reshape((X.shape[0],X.shape[1]**2))"
   ]
  },
  {
   "cell_type": "code",
   "execution_count": 22,
   "metadata": {},
   "outputs": [],
   "source": [
    "def reshape_31(X):\n",
    "    return X.reshape((X.shape[0],X.shape[1]*X.shape[2]*X.shape[3]))"
   ]
  },
  {
   "cell_type": "code",
   "execution_count": null,
   "metadata": {},
   "outputs": [],
   "source": []
  }
 ],
 "metadata": {
  "kernelspec": {
   "display_name": "Python 3",
   "language": "python",
   "name": "python3"
  },
  "language_info": {
   "codemirror_mode": {
    "name": "ipython",
    "version": 3
   },
   "file_extension": ".py",
   "mimetype": "text/x-python",
   "name": "python",
   "nbconvert_exporter": "python",
   "pygments_lexer": "ipython3",
   "version": "3.7.4"
  }
 },
 "nbformat": 4,
 "nbformat_minor": 4
}
